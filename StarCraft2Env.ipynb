{
 "cells": [
  {
   "cell_type": "code",
   "execution_count": 3,
   "metadata": {},
   "outputs": [],
   "source": [
    "import gym\n",
    "import numpy as np\n",
    "import pickle\n",
    "import time\n",
    "import subprocess"
   ]
  },
  {
   "cell_type": "code",
   "execution_count": 4,
   "metadata": {},
   "outputs": [],
   "source": [
    "class StarCraft2Env(gym.Env):\n",
    "    def __init__(self):\n",
    "        super(StarCraft2Env,self).__init__()\n",
    "        self.observation_space = gym.spaces.Box(low=0, high=255, shape=(224,224,3),dtype = np.uint8)\n",
    "        self.action_space = gym.spaces.Discrete(6)\n",
    "        \n",
    "    def step(self,action):\n",
    "        while True:\n",
    "            try:\n",
    "                with open('transaction.pkl','rb') as f:\n",
    "                    transaction = pickle.load(f)\n",
    "                if transaction['action'] is None:\n",
    "                    transaction['action']=action\n",
    "                    with open('transaction.pkl','wb') as f:\n",
    "                        pickle.dump(transaction,f)\n",
    "                    break\n",
    "                time.sleep(0.1)\n",
    "            except Exception as e:\n",
    "                time.sleep(0.1)\n",
    "                pass\n",
    "        \n",
    "        #取回返回值transaction\n",
    "        while True:\n",
    "            try:\n",
    "                with open('transaction.pkl','rb') as f:\n",
    "                    transaction = pickle.load(f)\n",
    "                if transaction['action'] is None:\n",
    "                    observation=transaction['observation']\n",
    "                    reward=transaction['reward']\n",
    "                    done=transaction['done']\n",
    "                    break\n",
    "                time.sleep(0.1)\n",
    "            except Exception as e:\n",
    "                time.sleep(0.1)\n",
    "                pass\n",
    "        info = {}\n",
    "        return observation,reward,done,info\n",
    "    \n",
    "    def reset(self):\n",
    "        print('Reset the environment!')\n",
    "        map = np.zeros((224,224,3),dtype = np.uint8)\n",
    "        observation = map\n",
    "        transaction = {'observation':map,'reward':0,'action':None,'done':False}\n",
    "        with open('transaction.pkl','wb') as f:\n",
    "            pickle.dump(transaction,f)\n",
    "            \n",
    "        subprocess.Popen(['python3','WorkerRushBot.py'])\n",
    "        return observation"
   ]
  },
  {
   "cell_type": "code",
   "execution_count": 13,
   "metadata": {},
   "outputs": [],
   "source": [
    "# sc2 = StarCraft2Env()\n",
    "# from stable_baselines3.common.env_checker import check_env\n",
    "# check_env(sc2)\n",
    "# tr1 = sc2.reset()"
   ]
  },
  {
   "cell_type": "code",
   "execution_count": 14,
   "metadata": {},
   "outputs": [],
   "source": [
    "# for i in range(100):\n",
    "#     sc2.step(0)\n",
    "#     sc2.step(1)\n",
    "#     sc2.step(2)\n",
    "#     sc2.step(3)\n",
    "#     sc2.step(4)"
   ]
  },
  {
   "cell_type": "code",
   "execution_count": 15,
   "metadata": {},
   "outputs": [],
   "source": [
    "# with open('transaction.pkl','rb') as f:\n",
    "#     tr2 = pickle.load(f)"
   ]
  },
  {
   "cell_type": "code",
   "execution_count": 16,
   "metadata": {},
   "outputs": [],
   "source": [
    "# print(tr2['action'])"
   ]
  },
  {
   "cell_type": "code",
   "execution_count": 17,
   "metadata": {},
   "outputs": [],
   "source": [
    "# print(tr2)"
   ]
  },
  {
   "cell_type": "code",
   "execution_count": null,
   "metadata": {},
   "outputs": [],
   "source": []
  },
  {
   "cell_type": "code",
   "execution_count": null,
   "metadata": {},
   "outputs": [],
   "source": []
  }
 ],
 "metadata": {
  "kernelspec": {
   "display_name": "Python 3",
   "language": "python",
   "name": "python3"
  },
  "language_info": {
   "codemirror_mode": {
    "name": "ipython",
    "version": 3
   },
   "file_extension": ".py",
   "mimetype": "text/x-python",
   "name": "python",
   "nbconvert_exporter": "python",
   "pygments_lexer": "ipython3",
   "version": "3.8.5"
  }
 },
 "nbformat": 4,
 "nbformat_minor": 4
}
